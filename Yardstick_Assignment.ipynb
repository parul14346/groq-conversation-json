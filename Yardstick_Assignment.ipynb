{
  "nbformat": 4,
  "nbformat_minor": 0,
  "metadata": {
    "colab": {
      "provenance": []
    },
    "kernelspec": {
      "name": "python3",
      "display_name": "Python 3"
    },
    "language_info": {
      "name": "python"
    }
  },
  "cells": [
    {
      "cell_type": "markdown",
      "source": [
        "# **Task 1 (Conversation History and Summarization)**"
      ],
      "metadata": {
        "id": "42T75a8_l_nH"
      }
    },
    {
      "cell_type": "code",
      "execution_count": 3,
      "metadata": {
        "colab": {
          "base_uri": "https://localhost:8080/"
        },
        "id": "ZZIunfKQrlrY",
        "outputId": "55799849-01e2-473c-a16c-2c1dd3b4fa16"
      },
      "outputs": [
        {
          "output_type": "stream",
          "name": "stdout",
          "text": [
            "Requirement already satisfied: openai in /usr/local/lib/python3.12/dist-packages (1.106.1)\n",
            "Requirement already satisfied: anyio<5,>=3.5.0 in /usr/local/lib/python3.12/dist-packages (from openai) (4.10.0)\n",
            "Requirement already satisfied: distro<2,>=1.7.0 in /usr/local/lib/python3.12/dist-packages (from openai) (1.9.0)\n",
            "Requirement already satisfied: httpx<1,>=0.23.0 in /usr/local/lib/python3.12/dist-packages (from openai) (0.28.1)\n",
            "Requirement already satisfied: jiter<1,>=0.4.0 in /usr/local/lib/python3.12/dist-packages (from openai) (0.10.0)\n",
            "Requirement already satisfied: pydantic<3,>=1.9.0 in /usr/local/lib/python3.12/dist-packages (from openai) (2.11.7)\n",
            "Requirement already satisfied: sniffio in /usr/local/lib/python3.12/dist-packages (from openai) (1.3.1)\n",
            "Requirement already satisfied: tqdm>4 in /usr/local/lib/python3.12/dist-packages (from openai) (4.67.1)\n",
            "Requirement already satisfied: typing-extensions<5,>=4.11 in /usr/local/lib/python3.12/dist-packages (from openai) (4.15.0)\n",
            "Requirement already satisfied: idna>=2.8 in /usr/local/lib/python3.12/dist-packages (from anyio<5,>=3.5.0->openai) (3.10)\n",
            "Requirement already satisfied: certifi in /usr/local/lib/python3.12/dist-packages (from httpx<1,>=0.23.0->openai) (2025.8.3)\n",
            "Requirement already satisfied: httpcore==1.* in /usr/local/lib/python3.12/dist-packages (from httpx<1,>=0.23.0->openai) (1.0.9)\n",
            "Requirement already satisfied: h11>=0.16 in /usr/local/lib/python3.12/dist-packages (from httpcore==1.*->httpx<1,>=0.23.0->openai) (0.16.0)\n",
            "Requirement already satisfied: annotated-types>=0.6.0 in /usr/local/lib/python3.12/dist-packages (from pydantic<3,>=1.9.0->openai) (0.7.0)\n",
            "Requirement already satisfied: pydantic-core==2.33.2 in /usr/local/lib/python3.12/dist-packages (from pydantic<3,>=1.9.0->openai) (2.33.2)\n",
            "Requirement already satisfied: typing-inspection>=0.4.0 in /usr/local/lib/python3.12/dist-packages (from pydantic<3,>=1.9.0->openai) (0.4.1)\n"
          ]
        }
      ],
      "source": [
        "!pip install openai\n",
        "\n",
        "import openai\n",
        "import os"
      ]
    },
    {
      "cell_type": "markdown",
      "source": [
        "**Create API Key**"
      ],
      "metadata": {
        "id": "2z6hbgEV36bs"
      }
    },
    {
      "cell_type": "code",
      "source": [
        "from openai import OpenAI\n",
        "import getpass\n",
        "\n",
        "\n",
        "groq_api_key = getpass.getpass(\"Enter your Groq API key: \")\n",
        "\n",
        "client = OpenAI(\n",
        "    api_key=groq_api_key,\n",
        "    base_url=\"https://api.groq.com/openai/v1\"\n",
        ")"
      ],
      "metadata": {
        "colab": {
          "base_uri": "https://localhost:8080/"
        },
        "id": "kXFPToWIA2cL",
        "outputId": "67854d08-f225-40ce-c026-95c61bfb035e"
      },
      "execution_count": 4,
      "outputs": [
        {
          "name": "stdout",
          "output_type": "stream",
          "text": [
            "Enter your Groq API key: ··········\n"
          ]
        }
      ]
    },
    {
      "cell_type": "code",
      "source": [
        "response = client.chat.completions.create(\n",
        "    model=\"llama-3.1-8b-instant\",\n",
        "    messages=[\n",
        "        {\"role\": \"system\", \"content\": \"You are a helpful assistant.\"},\n",
        "        {\"role\": \"user\", \"content\": \"Hello, what is AI?\"}\n",
        "    ]\n",
        ")\n",
        "print(response.choices[0].message.content)"
      ],
      "metadata": {
        "colab": {
          "base_uri": "https://localhost:8080/"
        },
        "id": "bdXtyLtLA4p3",
        "outputId": "5e78d79c-112d-4fc5-c9b0-1a8dbd1bfe69"
      },
      "execution_count": 5,
      "outputs": [
        {
          "output_type": "stream",
          "name": "stdout",
          "text": [
            "Hello. Artificial Intelligence (AI) is a branch of computer science that focuses on creating intelligent machines that can think, learn, and behave like humans. AI involves the development of algorithms, statistical models, and computer programs that enable machines to perform tasks that typically require human intelligence, such as:\n",
            "\n",
            "1. Learning: AI systems can learn from data and adapt to new situations.\n",
            "2. Problem-solving: AI can analyze problems and come up with solutions.\n",
            "3. Reasoning: AI can make decisions based on logic and evidence.\n",
            "4. Perception: AI can interpret and understand data from sensors, images, and text.\n",
            "5. Linguistic understanding: AI can understand and generate human language.\n",
            "\n",
            "There are different types of AI, including:\n",
            "\n",
            "1. **Narrow or Weak AI**: Designed to perform a specific task, like facial recognition, language translation, or playing chess.\n",
            "2. **General or Strong AI**: A hypothetical AI that can perform any intellectual task that a human can.\n",
            "3. **Superintelligence**: An AI that is drastically more intelligent than a human.\n",
            "\n",
            "AI has many applications in various fields, such as:\n",
            "\n",
            "1. Virtual assistants (like myself)\n",
            "2. Image recognition and processing\n",
            "3. Natural Language Processing (NLP)\n",
            "4. Expert systems\n",
            "5. Robotics\n",
            "6. Healthcare and medical diagnosis\n",
            "7. Finance and financial predictions\n",
            "8. Autonomous vehicles\n",
            "9. Customer service and chatbots\n",
            "\n",
            "I hope this helps you understand AI better. Do you have any specific questions or topics you'd like to discuss further?\n"
          ]
        }
      ]
    },
    {
      "cell_type": "code",
      "source": [],
      "metadata": {
        "id": "cXyevqnLA4sP"
      },
      "execution_count": 5,
      "outputs": []
    },
    {
      "cell_type": "code",
      "source": [],
      "metadata": {
        "id": "B_ZVe9mFA4vz"
      },
      "execution_count": 5,
      "outputs": []
    },
    {
      "cell_type": "markdown",
      "source": [
        "Build Conversation History Manager"
      ],
      "metadata": {
        "id": "Q1gjdOjs4DuS"
      }
    },
    {
      "cell_type": "code",
      "source": [
        "conversation_history = []\n",
        "\n",
        "def add_message(role, content):\n",
        "    \"\"\"Add a message to the conversation history\"\"\"\n",
        "    conversation_history.append({\"role\": role, \"content\": content})\n",
        "\n",
        "add_message(\"user\", \"Hello, how are you?\")\n",
        "add_message(\"assistant\", \"I am fine, how can I help you?\")\n",
        "print(conversation_history)"
      ],
      "metadata": {
        "colab": {
          "base_uri": "https://localhost:8080/"
        },
        "id": "9N6_oX6LuWzv",
        "outputId": "2a062a6d-1a23-4a5d-cceb-1a0f8ac822e6"
      },
      "execution_count": 6,
      "outputs": [
        {
          "output_type": "stream",
          "name": "stdout",
          "text": [
            "[{'role': 'user', 'content': 'Hello, how are you?'}, {'role': 'assistant', 'content': 'I am fine, how can I help you?'}]\n"
          ]
        }
      ]
    },
    {
      "cell_type": "markdown",
      "source": [
        "Truncate Conversation"
      ],
      "metadata": {
        "id": "h5hpIvq44-KH"
      }
    },
    {
      "cell_type": "code",
      "source": [
        "def truncate_by_messages(history, n):\n",
        "    \"\"\"Keep only the last n messages\"\"\"\n",
        "    return history[-n:]\n",
        "\n",
        "def truncate_by_length(history, max_chars):\n",
        "    \"\"\"Keep conversation within character limit\"\"\"\n",
        "    text = \"\"\n",
        "    truncated = []\n",
        "    for msg in reversed(history):\n",
        "        if len(text) + len(msg[\"content\"]) <= max_chars:\n",
        "            truncated.insert(0, msg)\n",
        "            text += msg[\"content\"]\n",
        "        else:\n",
        "            break\n",
        "    return truncated\n",
        "\n",
        "print(truncate_by_messages(conversation_history, 1))\n",
        "print(truncate_by_length(conversation_history, 50))"
      ],
      "metadata": {
        "colab": {
          "base_uri": "https://localhost:8080/"
        },
        "id": "uxfDMrWS4_9w",
        "outputId": "695aa9f2-977b-4fb2-efb8-b1de6314f14d"
      },
      "execution_count": 7,
      "outputs": [
        {
          "output_type": "stream",
          "name": "stdout",
          "text": [
            "[{'role': 'assistant', 'content': 'I am fine, how can I help you?'}]\n",
            "[{'role': 'user', 'content': 'Hello, how are you?'}, {'role': 'assistant', 'content': 'I am fine, how can I help you?'}]\n"
          ]
        }
      ]
    },
    {
      "cell_type": "markdown",
      "source": [
        "Summarization"
      ],
      "metadata": {
        "id": "ZT90i2W56e1u"
      }
    },
    {
      "cell_type": "code",
      "source": [
        "def summarize_history(history):\n",
        "    global client\n",
        "    summary_prompt = \"Summarize this conversation briefly:\\n\\n\"\n",
        "    for msg in history:\n",
        "        summary_prompt += f\"{msg['role'].capitalize()}: {msg['content']}\\n\"\n",
        "\n",
        "    response = client.chat.completions.create(\n",
        "        model=\"llama-3.1-8b-instant\",\n",
        "        messages=[\n",
        "            {\"role\": \"system\", \"content\": \"You are a helpful assistant that summarizes conversations.\"},\n",
        "            {\"role\": \"user\", \"content\": summary_prompt}\n",
        "        ]\n",
        "    )\n",
        "    return response.choices[0].message.content"
      ],
      "metadata": {
        "id": "EFxMEFgK6U2d"
      },
      "execution_count": 8,
      "outputs": []
    },
    {
      "cell_type": "markdown",
      "source": [
        "Periodic Summarization"
      ],
      "metadata": {
        "id": "chBJ4-_p8j3E"
      }
    },
    {
      "cell_type": "code",
      "source": [
        "def run_conversation(user_input, k=3):\n",
        "    global client\n",
        "    add_message(\"user\", user_input)\n",
        "\n",
        "    response = client.chat.completions.create(\n",
        "        model=\"llama-3.1-8b-instant\",\n",
        "        messages=conversation_history\n",
        "    )\n",
        "    assistant_reply = response.choices[0].message.content\n",
        "    add_message(\"assistant\", assistant_reply)\n",
        "\n",
        "    turns = len([m for m in conversation_history if m[\"role\"] == \"user\"])\n",
        "    if turns % k == 0:\n",
        "        summary = summarize_history(conversation_history)\n",
        "        conversation_history.clear()\n",
        "        conversation_history.append({\"role\": \"system\", \"content\": f\"Summary: {summary}\"})\n",
        "\n",
        "    return assistant_reply"
      ],
      "metadata": {
        "id": "oLwN10zG8Amb"
      },
      "execution_count": 9,
      "outputs": []
    },
    {
      "cell_type": "code",
      "source": [
        "print(run_conversation(\"Hi, what is AI?\"))\n",
        "print(run_conversation(\"Tell me how Groq works.\"))\n",
        "print(run_conversation(\"Can you summarize so far?\"))\n",
        "print(conversation_history)  # see stored summary"
      ],
      "metadata": {
        "colab": {
          "base_uri": "https://localhost:8080/"
        },
        "id": "dkxwo6fQ8pgN",
        "outputId": "cb37c723-7efd-4cda-82fa-7c489d8c6b5b"
      },
      "execution_count": 10,
      "outputs": [
        {
          "output_type": "stream",
          "name": "stdout",
          "text": [
            "AI stands for Artificial Intelligence, which refers to the development of computer systems that can perform tasks that typically require human intelligence. These tasks can include:\n",
            "\n",
            "1. Learning: AI systems can learn from data and improve their performance over time.\n",
            "2. Problem-solving: AI systems can identify and solve problems in a logical and systematic way.\n",
            "3. Reasoning: AI systems can interpret and draw conclusions from data and rules.\n",
            "4. Perception: AI systems can recognize and classify objects, images, and sounds.\n",
            "5. Language understanding and generation: AI systems can understand and generate human language.\n",
            "\n",
            "There are several types of AI, including:\n",
            "\n",
            "1. Narrow or Weak AI: Designed to perform a specific task, such as a virtual assistant or a chatbot.\n",
            "2. General or Strong AI: A hypothetical AI system that can perform any task that a human can.\n",
            "3. Superintelligence: An AI system that significantly surpasses human intelligence in all areas.\n",
            "\n",
            "The goal of AI is to create systems that can assist and augment human capabilities, making life easier, safer, and more efficient.\n",
            "\n",
            "I hope this helps! Do you have any other questions about AI?\n",
            "Groq is a company that specializes in developing advanced deep learning platforms, including high-performance AI processors and software tools. Here's an overview of how Groq works:\n",
            "\n",
            "**Groq's AI Processors:**\n",
            "\n",
            "Groq's AI processors are designed to accelerate deep learning workloads, such as image recognition, natural language processing, and autonomous driving. These processors are optimized for low latency, high throughput, and power efficiency.\n",
            "\n",
            "Some key features of Groq's AI processors include:\n",
            "\n",
            "1. **Tensor processing units (TPUs):** Groq's processors use custom-designed TPUs to accelerate matrix multiplication and other deep learning operations.\n",
            "2. **High-bandwidth memory:** Groq's processors use high-bandwidth memory architectures to reduce memory latency and increase data transfer rates.\n",
            "3. **Custom architectures:** Groq's processors are designed to optimize specific deep learning algorithms and workloads, reducing the need for general-purpose computing.\n",
            "\n",
            "**How Groq's Processors Work:**\n",
            "\n",
            "Here's a high-level overview of how Groq's processors work:\n",
            "\n",
            "1. **Model compilation:** Users compile their deep learning models into a binary format that can be executed on Groq's hardware.\n",
            "2. **Tensor processing:** The compiled model is then executed on the TPU, which performs matrix multiplication and other deep learning operations.\n",
            "3. **Data transfer:** The TPU transfers data between memory and the CPU or other peripherals as needed.\n",
            "4. **System management:** Groq's software stack manages system resources, including memory allocation, thread scheduling, and thermal management.\n",
            "\n",
            "**Software Tools:**\n",
            "\n",
            "Groq also provides software tools to support its AI processors, including:\n",
            "\n",
            "1. **Groq Tensor Engine (GTE):** A high-level compiler and framework for building, compiling, and running deep learning models on Groq's hardware.\n",
            "2. **Groq System Stack (GSS):** A set of system software components that manage the interaction between the GTE and the host system.\n",
            "\n",
            "**Applications:**\n",
            "\n",
            "Groq's technology is being applied in various industries, including:\n",
            "\n",
            "1. **Cloud infrastructure:** Large cloud providers are using Groq's technology to accelerate their deep learning workloads.\n",
            "2. **Edge AI:** Groq's processors are being used in edge devices, such as smartphones, smart speakers, and security cameras.\n",
            "3. **High-performance computing:** Groq's processors are being used in supercomputing and high-performance computing applications.\n",
            "\n",
            "In summary, Groq is a company that specializes in developing advanced AI processors and software tools for deep learning applications. Its technology is being used in various industries, including cloud infrastructure, edge AI, and high-performance computing.\n",
            "We haven't had a conversation yet, so there's nothing to summarize. Our conversation has just started.\n",
            "[{'role': 'system', 'content': \"Summary: Here's a brief summary of the conversation:\\n\\nThe conversation started with an introduction to Artificial Intelligence (AI) and its various types, including narrow, general, and superintelligence. The user then asked about how Groq works, and I provided an explanation of the company's advanced deep learning platforms, AI processors, and software tools. Specifically, I covered the design of Groq's AI processors, how they work, and the company's software tools, including the Groq Tensor Engine (GTE) and the Groq System Stack (GSS). I also mentioned the various industries that are using Groq's technology, including cloud infrastructure, edge AI, and high-performance computing.\"}, {'role': 'user', 'content': 'Can you summarize so far?'}, {'role': 'assistant', 'content': \"We haven't had a conversation yet, so there's nothing to summarize. Our conversation has just started.\"}]\n"
          ]
        }
      ]
    },
    {
      "cell_type": "code",
      "source": [
        ""
      ],
      "metadata": {
        "id": "C2VXG0YMYshB"
      },
      "execution_count": 10,
      "outputs": []
    },
    {
      "cell_type": "markdown",
      "source": [
        "**DEMO**"
      ],
      "metadata": {
        "id": "oWOh8yThg1kw"
      }
    },
    {
      "cell_type": "code",
      "source": [
        "print(\"=== Normal Conversation ===\")\n",
        "print(run_conversation(\"Hi, what is AI?\"))\n",
        "print(run_conversation(\"Can you tell me how Groq works?\"))\n",
        "print(run_conversation(\"And why is summarization useful?\"))\n",
        "\n",
        "print(\"\\n=== Full Conversation History ===\")\n",
        "for msg in conversation_history:\n",
        "    print(f\"{msg['role'].capitalize()}: {msg['content']}\")\n",
        "\n",
        "print(\"\\n=== Truncate by Last 2 Messages ===\")\n",
        "truncated_n = truncate_by_messages(conversation_history, 2)\n",
        "for msg in truncated_n:\n",
        "    print(f\"{msg['role'].capitalize()}: {msg['content']}\")\n",
        "\n",
        "print(\"\\n=== Truncate by Max 150 Characters ===\")\n",
        "truncated_chars = truncate_by_length(conversation_history, 150)\n",
        "for msg in truncated_chars:\n",
        "    print(f\"{msg['role'].capitalize()}: {msg['content']}\")\n",
        "\n",
        "print(\"\\n=== Periodic Summarization (k=3) ===\")\n",
        "\n",
        "conversation_history.clear()\n",
        "\n",
        "print(run_conversation(\"Hi there!\", k=3))\n",
        "print(run_conversation(\"I want to learn about AI.\", k=3))\n",
        "print(run_conversation(\"Can you summarize our chat?\", k=3))\n",
        "\n",
        "print(\"\\n=== History After Summarization ===\")\n",
        "for msg in conversation_history:\n",
        "    print(f\"{msg['role'].capitalize()}: {msg['content']}\")"
      ],
      "metadata": {
        "colab": {
          "base_uri": "https://localhost:8080/"
        },
        "id": "7-B7emdOg9ce",
        "outputId": "8da7f5d5-45c0-4338-9ab4-d67798d80289"
      },
      "execution_count": 11,
      "outputs": [
        {
          "output_type": "stream",
          "name": "stdout",
          "text": [
            "=== Normal Conversation ===\n",
            "AI (Artificial Intelligence) refers to the development of computer systems that can perform tasks that typically require human intelligence, such as:\n",
            "\n",
            "1. Learning: AI systems can learn from data, experiences, and feedback.\n",
            "2. Problem-solving: AI systems can analyze problems, identify solutions, and make decisions.\n",
            "3. Reasoning: AI systems can draw conclusions, make predictions, and understand cause-and-effect relationships.\n",
            "4. Perception: AI systems can interpret and understand data from sensors, images, and speech.\n",
            "5. Language understanding: AI systems can comprehend and generate human language.\n",
            "\n",
            "AI has various types, including:\n",
            "\n",
            "1. **Narrow or Weak AI**: Designed for a specific task, like a virtual assistant, image recognition, or language translation.\n",
            "2. **General AI**: Intended to perform any intellectual task that a human can, but is currently not available.\n",
            "3. **Superintelligence**: Far superior to human intelligence, with capabilities that could surpass human capabilities, but is still in the realm of science fiction.\n",
            "\n",
            "These categories are not mutually exclusive, and most AI systems today are narrow or weak AI, but the technology is advancing rapidly.\n",
            "\n",
            "Would you like to know more about a specific aspect of AI?\n",
            "Groq (Groq Inc.) is a technology company that specializes in developing advanced deep learning platforms, AI processors, and software tools for applications such as cloud infrastructure, edge AI, and high-performance computing.\n",
            "\n",
            "**Groq's AI Processors:**\n",
            "\n",
            "Groq's AI processors are designed specifically for deep learning workloads, which are the building blocks of many AI applications. These processors are optimized for performance, power efficiency, and scalability, enabling faster, more accurate, and more secure AI model computations.\n",
            "\n",
            "**Groq Tensor Engine (GTE):**\n",
            "\n",
            "Groq's Tensor Engine (GTE) is a software tool that provides a unified, optimized, and scalable infrastructure for deep learning workloads. GTE is designed to work seamlessly with Groq's AI processors, enabling faster training times, lower energy consumption, and improved model performance.\n",
            "\n",
            "**Groq System Stack (GSS):**\n",
            "\n",
            "Groq's System Stack (GSS) is a suite of software tools that includes drivers, firmware, and software frameworks that work together to create a complete, optimized AI development and deployment environment. GSS simplifies the process of integrating and managing AI workloads on Groq hardware, making it easier to build and deploy AI applications.\n",
            "\n",
            "**Key Features of Groq's Technology:**\n",
            "\n",
            "Some key features of Groq's technology include:\n",
            "\n",
            "* **Parallel computing architecture**: Groq's hardware is designed to perform deep learning computations in parallel, accelerating performance and reducing training times.\n",
            "* **Efficient memory hierarchy**: Groq's memory hierarchy is optimized for deep learning applications, minimizing data movement and optimizing access to data.\n",
            "* **Scalable software tools**: Groq's software tools are designed to scale with the complexity of AI workloads, making it easier to build and deploy large-scale AI applications.\n",
            "\n",
            "Groq's technology is used in various industries, including cloud infrastructure, edge AI, high-performance computing, and more. Companies such as Google Cloud, Microsoft, and NVIDIA are exploring the use of Groq's technology to accelerate their AI workloads and improve their performance and scalability.\n",
            "\n",
            "Would you like to know more about a specific application or industry using Groq's technology?\n",
            "Summarization is useful for several reasons:\n",
            "\n",
            "1. **Time-Saving**: Summarization helps to quickly convey the essential information from a longer piece of text, saving time for both the reader and the writer.\n",
            "\n",
            "2. **Easy Understanding**: By extracting the main points, summarization clarifies complex information and makes it easier to comprehend, especially for readers who might not have the time or inclination to read the entire text.\n",
            "\n",
            "3. **Improved Focus**: A summary helps to prioritize the information by highlighting the most important details, thus enabling readers to focus on what matters most.\n",
            "\n",
            "4. **Enhanced Recall**: When information is summarized, people are more likely to remember the key points, as they are presented in a concise and clear manner.\n",
            "\n",
            "5. **Better Decision Making**: By quickly grasping the main points, individuals can make informed decisions or take prompt action, as they have access to the essential facts at their fingertips.\n",
            "\n",
            "6. **Streamlined Research**: Summarization can aid in research by providing a quick overview of the topic, allowing readers to gauge the relevance and importance of the information before delving deeper.\n",
            "\n",
            "7. **Conversational Efficiency**: Summarization is particularly useful in conversations, where it enables participants to quickly get on the same page, avoiding misunderstandings and ensuring that all parties have a clear understanding of the topic.\n",
            "\n",
            "Overall, summarization is an indispensable tool for effective communication, knowledge acquisition, and critical thinking.\n",
            "\n",
            "=== Full Conversation History ===\n",
            "System: Summary: This conversation started with a new user asking about Artificial Intelligence (AI) and its types (narrow, general, and superintelligence). They then asked about how Groq works, and I explained the company's AI processors, software tools (Groq Tensor Engine and Groq System Stack), and technology features.\n",
            "User: And why is summarization useful?\n",
            "Assistant: Summarization is useful for several reasons:\n",
            "\n",
            "1. **Time-Saving**: Summarization helps to quickly convey the essential information from a longer piece of text, saving time for both the reader and the writer.\n",
            "\n",
            "2. **Easy Understanding**: By extracting the main points, summarization clarifies complex information and makes it easier to comprehend, especially for readers who might not have the time or inclination to read the entire text.\n",
            "\n",
            "3. **Improved Focus**: A summary helps to prioritize the information by highlighting the most important details, thus enabling readers to focus on what matters most.\n",
            "\n",
            "4. **Enhanced Recall**: When information is summarized, people are more likely to remember the key points, as they are presented in a concise and clear manner.\n",
            "\n",
            "5. **Better Decision Making**: By quickly grasping the main points, individuals can make informed decisions or take prompt action, as they have access to the essential facts at their fingertips.\n",
            "\n",
            "6. **Streamlined Research**: Summarization can aid in research by providing a quick overview of the topic, allowing readers to gauge the relevance and importance of the information before delving deeper.\n",
            "\n",
            "7. **Conversational Efficiency**: Summarization is particularly useful in conversations, where it enables participants to quickly get on the same page, avoiding misunderstandings and ensuring that all parties have a clear understanding of the topic.\n",
            "\n",
            "Overall, summarization is an indispensable tool for effective communication, knowledge acquisition, and critical thinking.\n",
            "\n",
            "=== Truncate by Last 2 Messages ===\n",
            "User: And why is summarization useful?\n",
            "Assistant: Summarization is useful for several reasons:\n",
            "\n",
            "1. **Time-Saving**: Summarization helps to quickly convey the essential information from a longer piece of text, saving time for both the reader and the writer.\n",
            "\n",
            "2. **Easy Understanding**: By extracting the main points, summarization clarifies complex information and makes it easier to comprehend, especially for readers who might not have the time or inclination to read the entire text.\n",
            "\n",
            "3. **Improved Focus**: A summary helps to prioritize the information by highlighting the most important details, thus enabling readers to focus on what matters most.\n",
            "\n",
            "4. **Enhanced Recall**: When information is summarized, people are more likely to remember the key points, as they are presented in a concise and clear manner.\n",
            "\n",
            "5. **Better Decision Making**: By quickly grasping the main points, individuals can make informed decisions or take prompt action, as they have access to the essential facts at their fingertips.\n",
            "\n",
            "6. **Streamlined Research**: Summarization can aid in research by providing a quick overview of the topic, allowing readers to gauge the relevance and importance of the information before delving deeper.\n",
            "\n",
            "7. **Conversational Efficiency**: Summarization is particularly useful in conversations, where it enables participants to quickly get on the same page, avoiding misunderstandings and ensuring that all parties have a clear understanding of the topic.\n",
            "\n",
            "Overall, summarization is an indispensable tool for effective communication, knowledge acquisition, and critical thinking.\n",
            "\n",
            "=== Truncate by Max 150 Characters ===\n",
            "\n",
            "=== Periodic Summarization (k=3) ===\n",
            "How can I assist you today?\n",
            "Artificial Intelligence (AI) is a vast and fascinating field. I'd be happy to provide you with an overview and some key topics to get you started.\n",
            "\n",
            "**What is AI?**\n",
            "\n",
            "Artificial Intelligence refers to the development of computer systems that can perform tasks that typically require human intelligence, such as:\n",
            "\n",
            "1. Learning\n",
            "2. Problem-solving\n",
            "3. Reasoning\n",
            "4. Perception\n",
            "5. Language understanding\n",
            "\n",
            "**Types of AI:**\n",
            "\n",
            "1. **Narrow or Weak AI**: Designed to perform a specific task, such as playing chess or recognizing faces.\n",
            "2. **General or Strong AI**: Aims to create a machine that can perform any intellectual task that a human can.\n",
            "3. **Superintelligence**: Significantly more intelligent than the best human minds.\n",
            "\n",
            "**Key AI technologies:**\n",
            "\n",
            "1. **Machine Learning (ML)**: Enables machines to learn from data without being explicitly programmed.\n",
            "2. **Deep Learning (DL)**: A subset of ML that uses neural networks to analyze data.\n",
            "3. **Natural Language Processing (NLP)**: Allows computers to understand and generate human language.\n",
            "4. **Computer Vision**: Enables machines to interpret and understand visual data from images and videos.\n",
            "\n",
            "**Applications of AI:**\n",
            "\n",
            "1. **Virtual assistants** (e.g., Siri, Alexa)\n",
            "2. **Image recognition** (e.g., Google Photos)\n",
            "3. **Self-driving cars**\n",
            "4. **Personalized recommendations** (e.g., Netflix)\n",
            "5. **Healthcare** (e.g., disease diagnosis, personalized medicine)\n",
            "\n",
            "**Challenges and concerns:**\n",
            "\n",
            "1. **Bias and fairness**: AI systems can perpetuate existing biases if trained on biased data.\n",
            "2. **Job displacement**: AI may automate certain jobs, potentially leading to unemployment.\n",
            "3. **Security and ethics**: AI systems can be vulnerable to hacking and cyber attacks.\n",
            "4. **Transparency and accountability**: AI decision-making processes can be difficult to understand.\n",
            "\n",
            "**Getting started:**\n",
            "\n",
            "1. **Online courses**: Websites like Coursera, Udemy, and edX offer AI-related courses.\n",
            "2. **Books**: \"Deep Learning\" by Ian Goodfellow, \"Pattern Recognition and Machine Learning\" by Christopher Bishop.\n",
            "3. **Research papers**: Dive into the world of academic papers on AI research.\n",
            "4. **AI communities**: Join online forums, conferences, and meetups to connect with AI enthusiasts.\n",
            "\n",
            "This is just a taste of the vast topic of AI. What specific area of AI interests you the most?\n",
            "Here's a summary of our conversation:\n",
            "\n",
            "* You expressed interest in learning about Artificial Intelligence (AI).\n",
            "* I provided an overview of AI, including its definition, types, and key technologies (machine learning, deep learning, natural language processing, and computer vision).\n",
            "* I highlighted some of the applications of AI, including virtual assistants, image recognition, self-driving cars, and personalized recommendations.\n",
            "* We also discussed some of the challenges and concerns associated with AI, such as bias and fairness, job displacement, security and ethics, and transparency and accountability.\n",
            "* Finally, I provided some suggestions for getting started with learning about AI, including online courses, books, research papers, and joining AI communities.\n",
            "\n",
            "Let me know if you'd like to dive deeper into any of these topics or if you have any new questions!\n",
            "\n",
            "=== History After Summarization ===\n",
            "System: Summary: Here's a brief summary of our conversation:\n",
            "\n",
            "You expressed interest in learning about AI, and I provided a broad overview of the field, covering its definition, types, key technologies, applications, challenges, and ways to get started with learning more.\n"
          ]
        }
      ]
    },
    {
      "cell_type": "code",
      "source": [],
      "metadata": {
        "id": "0QKEUQjQkKc0"
      },
      "execution_count": 11,
      "outputs": []
    },
    {
      "cell_type": "markdown",
      "source": [
        "#  **Task 2 (JSON Schema Classification & Information Extraction)**"
      ],
      "metadata": {
        "id": "4f6oO67OmZOB"
      }
    },
    {
      "cell_type": "code",
      "source": [
        "# JSON schema for extracting user details\n",
        "schema = {\n",
        "    \"name\": \"extract_user_info\",\n",
        "    \"description\": \"Extract user information from a chat\",\n",
        "    \"parameters\": {\n",
        "        \"type\": \"object\",\n",
        "        \"properties\": {\n",
        "            \"name\": {\"type\": \"string\", \"description\": \"The user's full name\"},\n",
        "            \"email\": {\"type\": \"string\", \"description\": \"The user's email address\"},\n",
        "            \"phone\": {\"type\": \"string\", \"description\": \"The user's phone number\"},\n",
        "            \"location\": {\"type\": \"string\", \"description\": \"The city or place where the user lives\"},\n",
        "            \"age\": {\"type\": \"integer\", \"description\": \"The user's age\"}\n",
        "        },\n",
        "        \"required\": [\"name\", \"email\", \"phone\", \"location\", \"age\"]\n",
        "    }\n",
        "}"
      ],
      "metadata": {
        "id": "TUf7T84-mmZC"
      },
      "execution_count": 17,
      "outputs": []
    },
    {
      "cell_type": "code",
      "source": [
        "import json\n",
        "\n",
        "def extract_user_info(user_message):\n",
        "    \"\"\"Extracts user details using Groq function calling\"\"\"\n",
        "\n",
        "    response = client.chat.completions.create(\n",
        "        model=\"llama-3.1-8b-instant\",  # Groq model\n",
        "        messages=[\n",
        "            {\"role\": \"system\", \"content\": \"You are an assistant that extracts user details in JSON format.\"},\n",
        "            {\"role\": \"user\", \"content\": user_message}\n",
        "        ],\n",
        "        functions=[schema],  # pass the schema\n",
        "        function_call={\"name\": \"extract_user_info\"}  # force structured output\n",
        "    )\n",
        "\n",
        "    # Parse the JSON response\n",
        "    output = response.choices[0].message\n",
        "    return output\n",
        "\n",
        "# Example test\n",
        "test_message = \"Hi, I am Alice, my email is alice@test.com, phone is 9876543210, I live in Boston, and I am 30 years old.\"\n",
        "result = extract_user_info(test_message)\n",
        "print(result)"
      ],
      "metadata": {
        "colab": {
          "base_uri": "https://localhost:8080/"
        },
        "id": "1wQOU5iddNfq",
        "outputId": "cc9a562e-805d-461b-b072-47517a5f0703"
      },
      "execution_count": 18,
      "outputs": [
        {
          "output_type": "stream",
          "name": "stdout",
          "text": [
            "ChatCompletionMessage(content=None, refusal=None, role='assistant', annotations=None, audio=None, function_call=FunctionCall(arguments='{\"age\":30,\"email\":\"alice@test.com\",\"location\":\"Boston\",\"name\":\"Alice\",\"phone\":\"9876543210\"}', name='extract_user_info'), tool_calls=None)\n"
          ]
        }
      ]
    },
    {
      "cell_type": "code",
      "source": [
        "test_message = \"Hi, I am Alice, my email is alice@test.com, phone is 9876543210, I live in Boston, and I am 30 years old.\"\n",
        "result = extract_user_info(test_message)\n",
        "print(result)"
      ],
      "metadata": {
        "colab": {
          "base_uri": "https://localhost:8080/"
        },
        "id": "5BaVC1JsdNu9",
        "outputId": "abb5d9f3-c6b2-4190-da2d-202b63c1800f"
      },
      "execution_count": 19,
      "outputs": [
        {
          "output_type": "stream",
          "name": "stdout",
          "text": [
            "ChatCompletionMessage(content=None, refusal=None, role='assistant', annotations=None, audio=None, function_call=FunctionCall(arguments='{\"age\":30,\"email\":\"alice@test.com\",\"location\":\"Boston\",\"name\":\"Alice\",\"phone\":\"9876543210\"}', name='extract_user_info'), tool_calls=None)\n"
          ]
        }
      ]
    },
    {
      "cell_type": "markdown",
      "source": [
        "Final Demo"
      ],
      "metadata": {
        "id": "ess12Q2biHge"
      }
    },
    {
      "cell_type": "code",
      "source": [
        "sample_chats = [\n",
        "    \"Hi, I’m John Doe. My email is john.doe@example.com, I am 28 years old, live in New York, and my phone number is 1234567890.\",\n",
        "    \"Hello, my name is Sarah Lee. You can reach me at sarah.lee@mail.com. I’m 35, from Los Angeles, and my number is 9876543210.\",\n",
        "    \"Hey, this is Raj. My email is raj.kumar@domain.com, phone 555666777, I’m 40 years old, and I stay in Chicago.\"\n",
        "]\n",
        "\n",
        "for i, chat in enumerate(sample_chats, start=1):\n",
        "    print(f\"\\n--- Chat {i} ---\")\n",
        "    print(\"User:\", chat)\n",
        "    extracted = extract_user_info(chat)\n",
        "    print(\"Extracted JSON:\", extracted)"
      ],
      "metadata": {
        "colab": {
          "base_uri": "https://localhost:8080/"
        },
        "id": "nN6DISK2f2DA",
        "outputId": "d03e2966-e86d-46ed-81ca-4d55c508e542"
      },
      "execution_count": 20,
      "outputs": [
        {
          "output_type": "stream",
          "name": "stdout",
          "text": [
            "\n",
            "--- Chat 1 ---\n",
            "User: Hi, I’m John Doe. My email is john.doe@example.com, I am 28 years old, live in New York, and my phone number is 1234567890.\n",
            "Extracted JSON: ChatCompletionMessage(content=None, refusal=None, role='assistant', annotations=None, audio=None, function_call=FunctionCall(arguments='{\"age\":28,\"email\":\"john.doe@example.com\",\"location\":\"New York\",\"name\":\"John Doe\",\"phone\":\"1234567890\"}', name='extract_user_info'), tool_calls=None)\n",
            "\n",
            "--- Chat 2 ---\n",
            "User: Hello, my name is Sarah Lee. You can reach me at sarah.lee@mail.com. I’m 35, from Los Angeles, and my number is 9876543210.\n",
            "Extracted JSON: ChatCompletionMessage(content=None, refusal=None, role='assistant', annotations=None, audio=None, function_call=FunctionCall(arguments='{\"age\":35,\"email\":\"sarah.lee@mail.com\",\"location\":\"Los Angeles\",\"name\":\"Sarah Lee\",\"phone\":\"9876543210\"}', name='extract_user_info'), tool_calls=None)\n",
            "\n",
            "--- Chat 3 ---\n",
            "User: Hey, this is Raj. My email is raj.kumar@domain.com, phone 555666777, I’m 40 years old, and I stay in Chicago.\n",
            "Extracted JSON: ChatCompletionMessage(content=None, refusal=None, role='assistant', annotations=None, audio=None, function_call=FunctionCall(arguments='{\"age\":40,\"email\":\"raj.kumar@domain.com\",\"location\":\"Chicago\",\"name\":\"Raj\",\"phone\":\"555666777\"}', name='extract_user_info'), tool_calls=None)\n"
          ]
        }
      ]
    },
    {
      "cell_type": "code",
      "source": [],
      "metadata": {
        "id": "KlFEdVsHiLJ6"
      },
      "execution_count": null,
      "outputs": []
    }
  ]
}